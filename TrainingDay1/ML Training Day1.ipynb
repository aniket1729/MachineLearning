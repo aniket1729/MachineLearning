{
 "cells": [
  {
   "cell_type": "code",
   "execution_count": 54,
   "metadata": {},
   "outputs": [],
   "source": [
    "# Libraries required\n",
    "import pandas as pd\n",
    "import numpy as np\n",
    "import matplotlib.pyplot as plt\n",
    "import scipy\n",
    "import sklearn"
   ]
  },
  {
   "cell_type": "code",
   "execution_count": 55,
   "metadata": {},
   "outputs": [
    {
     "name": "stdout",
     "output_type": "stream",
     "text": [
      "['In', 'Out', '_', '_25', '_26', '_46', '_47', '__', '___', '__builtin__', '__builtins__', '__doc__', '__loader__', '__name__', '__package__', '__spec__', '_dh', '_i', '_i1', '_i10', '_i11', '_i12', '_i13', '_i14', '_i15', '_i16', '_i17', '_i18', '_i19', '_i2', '_i20', '_i21', '_i22', '_i23', '_i24', '_i25', '_i26', '_i27', '_i28', '_i29', '_i3', '_i30', '_i31', '_i32', '_i33', '_i34', '_i35', '_i36', '_i37', '_i38', '_i39', '_i4', '_i40', '_i41', '_i42', '_i43', '_i44', '_i45', '_i46', '_i47', '_i48', '_i49', '_i5', '_i50', '_i51', '_i52', '_i53', '_i54', '_i55', '_i6', '_i7', '_i8', '_i9', '_ih', '_ii', '_iii', '_oh', 'a', 'b', 'c1', 'c2', 'city', 'csv_df', 'csv_df1', 'csv_df2', 'csv_file', 'df', 'df1', 'df2', 'df3', 'emp1X', 'emp1_df', 'emp2C', 'emp2_df', 'end', 'exit', 'fob', 'get_ipython', 'i', 'lblT', 'lbl_col', 'lbl_fp', 'mathlib', 'merge_df', 'np', 'numlst', 'ob1', 'p1', 'p2', 'pd', 'plt', 'quit', 'scipy', 'sklearn', 'start', 'state', 'stats', 'sys', 'time', 'v1', 'v2', 'v3', 'vec1']\n",
      "['Adder', '__builtins__', '__cached__', '__doc__', '__file__', '__loader__', '__name__', '__package__', '__spec__', 'add', 'divide', 'minus', 'mult']\n"
     ]
    }
   ],
   "source": [
    "# Symbol Table\n",
    "print(dir())\n",
    "import mathlib\n",
    "print(dir(mathlib))"
   ]
  },
  {
   "cell_type": "code",
   "execution_count": 56,
   "metadata": {},
   "outputs": [
    {
     "name": "stdout",
     "output_type": "stream",
     "text": [
      "Added =  11\n"
     ]
    }
   ],
   "source": [
    "mathlib.add(5, 6)"
   ]
  },
  {
   "cell_type": "code",
   "execution_count": 57,
   "metadata": {
    "scrolled": true
   },
   "outputs": [
    {
     "name": "stdout",
     "output_type": "stream",
     "text": [
      "['C:\\\\Users\\\\asalunkhe\\\\ML Training\\\\ML_Training_Day1', 'C:\\\\Users\\\\asalunkhe\\\\AppData\\\\Local\\\\Continuum\\\\anaconda3\\\\python37.zip', 'C:\\\\Users\\\\asalunkhe\\\\AppData\\\\Local\\\\Continuum\\\\anaconda3\\\\DLLs', 'C:\\\\Users\\\\asalunkhe\\\\AppData\\\\Local\\\\Continuum\\\\anaconda3\\\\lib', 'C:\\\\Users\\\\asalunkhe\\\\AppData\\\\Local\\\\Continuum\\\\anaconda3', '', 'C:\\\\Users\\\\asalunkhe\\\\AppData\\\\Local\\\\Continuum\\\\anaconda3\\\\lib\\\\site-packages', 'C:\\\\Users\\\\asalunkhe\\\\AppData\\\\Local\\\\Continuum\\\\anaconda3\\\\lib\\\\site-packages\\\\win32', 'C:\\\\Users\\\\asalunkhe\\\\AppData\\\\Local\\\\Continuum\\\\anaconda3\\\\lib\\\\site-packages\\\\win32\\\\lib', 'C:\\\\Users\\\\asalunkhe\\\\AppData\\\\Local\\\\Continuum\\\\anaconda3\\\\lib\\\\site-packages\\\\Pythonwin', 'C:\\\\Users\\\\asalunkhe\\\\AppData\\\\Local\\\\Continuum\\\\anaconda3\\\\lib\\\\site-packages\\\\IPython\\\\extensions', 'C:\\\\Users\\\\asalunkhe\\\\.ipython']\n"
     ]
    }
   ],
   "source": [
    "import sys\n",
    "print(sys.path)"
   ]
  },
  {
   "cell_type": "code",
   "execution_count": 58,
   "metadata": {},
   "outputs": [
    {
     "name": "stdout",
     "output_type": "stream",
     "text": [
      "11\n"
     ]
    }
   ],
   "source": [
    "import mathlib\n",
    "ob1 = mathlib.Adder(5,6)\n",
    "ob1.add()"
   ]
  },
  {
   "cell_type": "code",
   "execution_count": 59,
   "metadata": {},
   "outputs": [
    {
     "name": "stdout",
     "output_type": "stream",
     "text": [
      "[60 60  3  1  0  0]\n",
      "[120 120   6   2   0   0]\n",
      "248\n"
     ]
    }
   ],
   "source": [
    "# NumPy array operation\n",
    "import numpy as np\n",
    "p1 = np.array([60,60,3,1,0,0])\n",
    "p2 = p1 * 2\n",
    "print(p1)\n",
    "print(p2)\n",
    "print(p2.sum())"
   ]
  },
  {
   "cell_type": "code",
   "execution_count": 60,
   "metadata": {},
   "outputs": [
    {
     "name": "stdout",
     "output_type": "stream",
     "text": [
      "[]\n",
      "[]\n",
      "0.0\n"
     ]
    }
   ],
   "source": [
    "# NumPy ndarray operation\n",
    "import numpy as np\n",
    "p1 = np.ndarray([60,60,3,1,0,0])\n",
    "p2 = p1 * 2\n",
    "print(p1)\n",
    "print(p2)\n",
    "print(p2.sum())"
   ]
  },
  {
   "cell_type": "code",
   "execution_count": 61,
   "metadata": {},
   "outputs": [
    {
     "name": "stdout",
     "output_type": "stream",
     "text": [
      "Range op\n",
      "[1, 2, 3, 4, 5, 6, 7, 8, 9, 10]\n",
      "[0, 1, 2, 3, 4, 5, 6, 7, 8, 9, 10]\n",
      "Numpy op\n",
      "[1.  1.5 2.  2.5 3.  3.5 4.  4.5 5.  5.5 6.  6.5 7.  7.5 8.  8.5 9.  9.5]\n",
      "[1 2 3 4 5 6 7 8 9]\n",
      "[ 1  2  3  4  5  6  7  8  9 10]\n"
     ]
    }
   ],
   "source": [
    "range(1,11)\n",
    "range(11)\n",
    "\n",
    "print(\"Range op\")\n",
    "print(list(range(1,11)))\n",
    "print(list(range(11)))\n",
    "\n",
    "import numpy as np\n",
    "np.arange(1,10,0.5)\n",
    "print(\"Numpy op\")\n",
    "print(np.arange(1,10,0.5))\n",
    "print(np.arange(1,10,1))\n",
    "print(np.arange(1,11,1))"
   ]
  },
  {
   "cell_type": "code",
   "execution_count": 62,
   "metadata": {},
   "outputs": [
    {
     "name": "stdout",
     "output_type": "stream",
     "text": [
      "time taken =  0.8037600517272949\n",
      "time taken =  0.10398077964782715\n",
      "First =  [1, 4, 9, 16, 25, 36, 49, 64, 81, 100]\n",
      "Secnd =  [  1   4   9  16  25  36  49  64  81 100]\n"
     ]
    }
   ],
   "source": [
    "# NumPy array operation faster than Python loop operation over array\n",
    "import time   # Vector\n",
    "\n",
    "start = time.time()\n",
    "a = list(range(1,1000001))\n",
    "b = list(range(1,1000001))\n",
    "c1 = []\n",
    "for i in range(len(a)):\n",
    " c1.append(a[i]*b[i])\n",
    "end = time.time()\n",
    "print(\"time taken = \",end-start)\n",
    "\n",
    "import numpy as np\n",
    "start = time.time()\n",
    "a = np.array(np.arange(1,1000001))\n",
    "b = np.array(np.arange(1,1000001))\n",
    "c2 = a*b\n",
    "end = time.time()\n",
    "print(\"time taken = \",end-start)\n",
    "\n",
    "print(\"First = \",c1[:10])\n",
    "print(\"Secnd = \",c2[:10])"
   ]
  },
  {
   "cell_type": "code",
   "execution_count": 63,
   "metadata": {},
   "outputs": [
    {
     "name": "stdout",
     "output_type": "stream",
     "text": [
      "[50 30]\n",
      "1\n",
      "(2,)\n",
      "int32\n",
      "\n",
      "[50. 30.]\n",
      "\n",
      "[50. 30.]\n",
      "float64\n",
      "[50. 30.]\n",
      "float32\n",
      "[50 30]\n",
      "object\n"
     ]
    }
   ],
   "source": [
    "# Type conversion, Data Type, Dimension and Shape of array\n",
    "import numpy as np\n",
    "\n",
    "v1 = np.array([50,30])\n",
    "\n",
    "print(v1)\n",
    "print(v1.ndim)\n",
    "print(v1.shape)\n",
    "print(v1.dtype)\n",
    "print(\"\")\n",
    "\n",
    "v2 = v1 * 1.0\n",
    "print(v2)\n",
    "print(\"\")\n",
    "\n",
    "v3 = v1.astype(\"double\")\n",
    "print(v3)\n",
    "print(v3.dtype)\n",
    "v3 = v1.astype(np.float32)\n",
    "print(v3)\n",
    "print(v3.dtype)\n",
    "v3 = v1.astype(np.object)\n",
    "print(v3)\n",
    "print(v3.dtype)"
   ]
  },
  {
   "cell_type": "code",
   "execution_count": 64,
   "metadata": {},
   "outputs": [
    {
     "name": "stdout",
     "output_type": "stream",
     "text": [
      "[[50 30]]\n",
      "\n",
      "[[50]\n",
      " [30]]\n"
     ]
    }
   ],
   "source": [
    "# Changing array shape\n",
    "print(v1.reshape(1, -1))\n",
    "print()\n",
    "print(v1.reshape(-1, 1))"
   ]
  },
  {
   "cell_type": "code",
   "execution_count": 65,
   "metadata": {},
   "outputs": [
    {
     "name": "stdout",
     "output_type": "stream",
     "text": [
      "[10, 32, 41, 73, 25, 4]\n",
      "\n",
      "[73]\n",
      "[10 32 41 25  4]\n",
      "\n",
      "[10 32  4]\n",
      "[41 73 25]\n",
      "\n"
     ]
    }
   ],
   "source": [
    "# File operation\n",
    "fob = open(\"file-write-read.txt\",\"w\")\n",
    "fob.write(\"10\\n32\\n41\\n73\\n25\\n4\")\n",
    "fob.close()\n",
    "\n",
    "fob = open(\"file-write-read.txt\", \"r\")\n",
    "numlst = fob.readlines()\n",
    "fob.close()\n",
    "\n",
    "# python - strarray into an - int array\n",
    "numlst[:] = [int(e) for e in numlst]  \n",
    "print(numlst)\n",
    "print()\n",
    "\n",
    "# Condition checking on all array elements\n",
    "import numpy as np\n",
    "vec1 = np.array(numlst)\n",
    "print(vec1[ vec1 > 50])\n",
    "print(vec1[ vec1 <= 50])\n",
    "print()\n",
    "\n",
    "print(vec1[ vec1%2 ==0])\n",
    "print(vec1[ vec1%2 != 0])\n",
    "print()"
   ]
  },
  {
   "cell_type": "code",
   "execution_count": 66,
   "metadata": {},
   "outputs": [
    {
     "name": "stdout",
     "output_type": "stream",
     "text": [
      "30.833333333333332\n",
      "28.5\n",
      "ModeResult(mode=array([4]), count=array([1]))\n"
     ]
    }
   ],
   "source": [
    "# SciPy library functions\n",
    "from scipy import stats\n",
    "\n",
    "print(vec1.mean())\n",
    "print(np.median(vec1))    #library function\n",
    "print(stats.mode(vec1))    #library function"
   ]
  },
  {
   "cell_type": "code",
   "execution_count": 67,
   "metadata": {},
   "outputs": [
    {
     "name": "stdout",
     "output_type": "stream",
     "text": [
      "[ 100 1024 1681 5329  625   16]\n",
      "[ 10  42  83 156 181 185]\n",
      "[12 34 43 75 27  6]\n",
      "True\n"
     ]
    }
   ],
   "source": [
    "print(vec1**2)\n",
    "print(vec1.cumsum())\n",
    "print(vec1+2)\n",
    "vec1[0]= 20\n",
    "print(20 in vec1)"
   ]
  },
  {
   "cell_type": "code",
   "execution_count": 68,
   "metadata": {},
   "outputs": [
    {
     "name": "stdout",
     "output_type": "stream",
     "text": [
      "  col1 col2\n",
      "0  kar  blr\n",
      "1   tn  chn\n",
      "2   ts  hyd\n",
      "3  ker  tvm\n",
      "4   ap  NaN\n"
     ]
    }
   ],
   "source": [
    "# Pandas DataFrame creation\n",
    "state = [\"kar\", \"tn\", \"ts\", \"ker\",\"ap\"]\n",
    "city  = [\"blr\", \"chn\", \"hyd\", \"tvm\",np.NaN]\n",
    "\n",
    "df = pd.DataFrame( {\n",
    "                    \"col1\" : state,\n",
    "                    \"col2\" : city \n",
    "                   } \n",
    "                 )\n",
    "print(df)"
   ]
  },
  {
   "cell_type": "code",
   "execution_count": 69,
   "metadata": {},
   "outputs": [
    {
     "name": "stdout",
     "output_type": "stream",
     "text": [
      "  state city\n",
      "0   kar  blr\n",
      "1    tn  chn\n",
      "2    ts  hyd\n",
      "3   ker  tvm\n",
      "4    ap  NaN\n"
     ]
    },
    {
     "data": {
      "text/html": [
       "<div>\n",
       "<style scoped>\n",
       "    .dataframe tbody tr th:only-of-type {\n",
       "        vertical-align: middle;\n",
       "    }\n",
       "\n",
       "    .dataframe tbody tr th {\n",
       "        vertical-align: top;\n",
       "    }\n",
       "\n",
       "    .dataframe thead th {\n",
       "        text-align: right;\n",
       "    }\n",
       "</style>\n",
       "<table border=\"1\" class=\"dataframe\">\n",
       "  <thead>\n",
       "    <tr style=\"text-align: right;\">\n",
       "      <th></th>\n",
       "      <th>state</th>\n",
       "      <th>city</th>\n",
       "    </tr>\n",
       "  </thead>\n",
       "  <tbody>\n",
       "    <tr>\n",
       "      <td>0</td>\n",
       "      <td>kar</td>\n",
       "      <td>blr</td>\n",
       "    </tr>\n",
       "    <tr>\n",
       "      <td>1</td>\n",
       "      <td>tn</td>\n",
       "      <td>chn</td>\n",
       "    </tr>\n",
       "    <tr>\n",
       "      <td>2</td>\n",
       "      <td>ts</td>\n",
       "      <td>hyd</td>\n",
       "    </tr>\n",
       "    <tr>\n",
       "      <td>3</td>\n",
       "      <td>ker</td>\n",
       "      <td>tvm</td>\n",
       "    </tr>\n",
       "    <tr>\n",
       "      <td>4</td>\n",
       "      <td>ap</td>\n",
       "      <td>NaN</td>\n",
       "    </tr>\n",
       "  </tbody>\n",
       "</table>\n",
       "</div>"
      ],
      "text/plain": [
       "  state city\n",
       "0   kar  blr\n",
       "1    tn  chn\n",
       "2    ts  hyd\n",
       "3   ker  tvm\n",
       "4    ap  NaN"
      ]
     },
     "execution_count": 69,
     "metadata": {},
     "output_type": "execute_result"
    }
   ],
   "source": [
    "df.columns = [\"state\", \"city\"]    # DataFrame column labeling / renaming\n",
    "print(df)\n",
    "df"
   ]
  },
  {
   "cell_type": "code",
   "execution_count": 70,
   "metadata": {},
   "outputs": [
    {
     "data": {
      "text/html": [
       "<div>\n",
       "<style scoped>\n",
       "    .dataframe tbody tr th:only-of-type {\n",
       "        vertical-align: middle;\n",
       "    }\n",
       "\n",
       "    .dataframe tbody tr th {\n",
       "        vertical-align: top;\n",
       "    }\n",
       "\n",
       "    .dataframe thead th {\n",
       "        text-align: right;\n",
       "    }\n",
       "</style>\n",
       "<table border=\"1\" class=\"dataframe\">\n",
       "  <thead>\n",
       "    <tr style=\"text-align: right;\">\n",
       "      <th></th>\n",
       "      <th>state</th>\n",
       "      <th>city</th>\n",
       "      <th>population</th>\n",
       "    </tr>\n",
       "  </thead>\n",
       "  <tbody>\n",
       "    <tr>\n",
       "      <td>0</td>\n",
       "      <td>kar</td>\n",
       "      <td>blr</td>\n",
       "      <td>50</td>\n",
       "    </tr>\n",
       "    <tr>\n",
       "      <td>1</td>\n",
       "      <td>tn</td>\n",
       "      <td>chn</td>\n",
       "      <td>60</td>\n",
       "    </tr>\n",
       "    <tr>\n",
       "      <td>2</td>\n",
       "      <td>ts</td>\n",
       "      <td>hyd</td>\n",
       "      <td>70</td>\n",
       "    </tr>\n",
       "    <tr>\n",
       "      <td>3</td>\n",
       "      <td>ker</td>\n",
       "      <td>tvm</td>\n",
       "      <td>80</td>\n",
       "    </tr>\n",
       "    <tr>\n",
       "      <td>4</td>\n",
       "      <td>ap</td>\n",
       "      <td>NaN</td>\n",
       "      <td>90</td>\n",
       "    </tr>\n",
       "  </tbody>\n",
       "</table>\n",
       "</div>"
      ],
      "text/plain": [
       "  state city  population\n",
       "0   kar  blr          50\n",
       "1    tn  chn          60\n",
       "2    ts  hyd          70\n",
       "3   ker  tvm          80\n",
       "4    ap  NaN          90"
      ]
     },
     "execution_count": 70,
     "metadata": {},
     "output_type": "execute_result"
    }
   ],
   "source": [
    "#Adding new column to DataFrame\n",
    "df[\"population\"] = [50, 60, 70, 80, 90]\n",
    "df"
   ]
  },
  {
   "cell_type": "code",
   "execution_count": 71,
   "metadata": {},
   "outputs": [
    {
     "name": "stdout",
     "output_type": "stream",
     "text": [
      "  state city  population\n",
      "1    tn  chn          60\n",
      "2    ts  hyd          70\n",
      "3   ker  tvm          80\n",
      "4    ap  NaN          90\n",
      "\n",
      "1    60\n",
      "2    70\n",
      "3    80\n",
      "4    90\n",
      "Name: population, dtype: int64\n",
      "\n",
      "1    60\n",
      "2    70\n",
      "3    80\n",
      "4    90\n",
      "Name: population, dtype: int64\n"
     ]
    }
   ],
   "source": [
    "# DataFrame selection of rows\n",
    "print(df[ df.population >= 60 ])\n",
    "print()\n",
    "\n",
    "print(df.population[ df.population >= 60 ])\n",
    "print()\n",
    "\n",
    "print(df[\"population\"][ df.population >= 60 ])"
   ]
  },
  {
   "cell_type": "code",
   "execution_count": 72,
   "metadata": {},
   "outputs": [
    {
     "data": {
      "image/png": "[encoded data removed]",
      "text/plain": [
       "<Figure size 432x288 with 1 Axes>"
      ]
     },
     "metadata": {
      "needs_background": "light"
     },
     "output_type": "display_data"
    }
   ],
   "source": [
    "# Plotting DataFrame\n",
    "df[\"edu\"] = [5,3,2,4,1]\n",
    "df.plot(x=\"population\", y=\"edu\")\n",
    "plt.show()"
   ]
  },
  {
   "cell_type": "code",
   "execution_count": 73,
   "metadata": {
    "scrolled": true
   },
   "outputs": [
    {
     "name": "stdout",
     "output_type": "stream",
     "text": [
      "    name   exp   got  diff status\n",
      "0  test1  10.0  20.0 -10.0   Fail\n",
      "1  test2  20.0  20.0   0.0   Pass\n",
      "2  test3  50.0  50.0   0.0   Pass\n",
      "3  test4  15.0  15.0   0.0   Pass\n",
      "4  test5  25.0  20.0   5.0   Pass\n",
      "5  test6   0.0  30.0 -30.0   Fail\n",
      "6  test7   0.0   0.0   0.0   Pass\n",
      "7  test8   5.0   0.0   5.0   Pass\n"
     ]
    },
    {
     "data": {
      "image/png": "[encoded data removed]",
      "text/plain": [
       "<Figure size 432x288 with 1 Axes>"
      ]
     },
     "metadata": {
      "needs_background": "light"
     },
     "output_type": "display_data"
    }
   ],
   "source": [
    "csv_file = open(\"data-all.csv\",\"w\")\n",
    "csv_file.write(\"test1:10:20\\ntest2:20:20\\ntest3:50:50\\ntest4:15:15\\ntest5:25:20\\ntest6::30\\ntest7::\\ntest8:5:\")\n",
    "csv_file.close()\n",
    "\n",
    "# Creating DataFrame from CSV file\n",
    "csv_df = pd.read_csv(\"data-all.csv\", header=None, delimiter=\":\")\n",
    "#csv_df = pd.read_csv(filename=\"data.csv\", header=None, delimiter=\",\" sep=\",\", encoding=\"utf-8\", name=[\"name\", \"exp\", \"got\"])\n",
    "\n",
    "csv_df.columns = [\"name\", \"exp\", \"got\"]\n",
    "csv_df.fillna(0, inplace=True)\n",
    "\n",
    "csv_df[\"diff\"] = csv_df[\"exp\"] - csv_df[\"got\"]\n",
    "\n",
    "#csv_df[\"status\"] = \"Pass\" if csv_df[\"diff\"] >= 0 else \"Fail\"\n",
    "csv_df[\"status\"] = np.where(csv_df[\"diff\"] >= 0,\"Pass\", \"Fail\")\n",
    "print(csv_df)\n",
    "\n",
    "plt.bar(csv_df[\"status\"], height=csv_df[\"exp\"])\n",
    "\n",
    "#csv_df.plot()\n",
    "\n",
    "#plt.bar(csv_df[\"name\"], csv_df[\"status\"])\n",
    "\n",
    "#plt.bar(range(1,len(csv_df[\"status\"])+1), csv_df[\"status\"])\n",
    "plt.show()"
   ]
  },
  {
   "cell_type": "code",
   "execution_count": 74,
   "metadata": {},
   "outputs": [],
   "source": [
    "csv_df1 = csv_df[csv_df.status == \"Pass\"]\n",
    "csv_df2 = csv_df[csv_df.status != \"Pass\"]\n",
    "#csv_df2 = csv_df[~csv_df.status == \"Pass\"]\n",
    "#csv_df2 = csv_df[csv_df.status == \"Fail\"]\n",
    "\n",
    "# Writing DataFrame to CSV file\n",
    "csv_df1.to_csv(\"data-pass.csv\", index=False);\n",
    "csv_df2.to_csv(\"data-fail.csv\", index=False);"
   ]
  },
  {
   "cell_type": "code",
   "execution_count": 75,
   "metadata": {},
   "outputs": [
    {
     "name": "stdout",
     "output_type": "stream",
     "text": [
      "    name   exp   got  diff_x status_x  diff_y status_y\n",
      "0  test2  20.0  20.0     0.0     Pass     NaN      NaN\n",
      "1  test3  50.0  50.0     0.0     Pass     NaN      NaN\n",
      "2  test4  15.0  15.0     0.0     Pass     NaN      NaN\n",
      "3  test5  25.0  20.0     5.0     Pass     NaN      NaN\n",
      "4  test7   0.0   0.0     0.0     Pass     NaN      NaN\n",
      "5  test8   5.0   0.0     5.0     Pass     NaN      NaN\n",
      "6  test1  10.0  20.0     NaN      NaN   -10.0     Fail\n",
      "7  test6   0.0  30.0     NaN      NaN   -30.0     Fail\n",
      "    name   exp   got diff_x status_x diff_y status_y\n",
      "0  test2  20.0  20.0      0     Pass  sales    sales\n",
      "1  test3  50.0  50.0      0     Pass  sales    sales\n",
      "2  test4  15.0  15.0      0     Pass  sales    sales\n",
      "3  test5  25.0  20.0      5     Pass  sales    sales\n",
      "4  test7   0.0   0.0      0     Pass  sales    sales\n",
      "5  test8   5.0   0.0      5     Pass  sales    sales\n",
      "6  test1  10.0  20.0  sales    sales    -10     Fail\n",
      "7  test6   0.0  30.0  sales    sales    -30     Fail\n"
     ]
    }
   ],
   "source": [
    "import pandas as pd\n",
    "import matplotlib.pyplot as plt\n",
    "import numpy as np\n",
    "\n",
    "df1 = pd.read_csv(\"data-pass.csv\")\n",
    "df2 = pd.read_csv(\"data-fail.csv\")\n",
    "\n",
    "#print df1\n",
    "#print df2\n",
    "\n",
    "#inner join = A intersection B\n",
    "#outer join = A union B\n",
    "#left outer join  = A + A intersection B\n",
    "#right outer join = B + A intersection B\n",
    "\n",
    "# Merging 2 DataFrames\n",
    "df3 = pd.merge(df1,df2,how=\"outer\",on=[\"name\",\"exp\",\"got\"])\n",
    "print(df3)\n",
    "df3.fillna(value=\"sales\",inplace=True)\n",
    "print(df3)"
   ]
  },
  {
   "cell_type": "code",
   "execution_count": 76,
   "metadata": {},
   "outputs": [
    {
     "name": "stdout",
     "output_type": "stream",
     "text": [
      "   empid  name   dept  salary  code  loc   band\n",
      "0   1234  arun  sales   45000  1234  blr  band5\n",
      "1   1236  ravi  purch   65656  1236  hyd  band1\n"
     ]
    }
   ],
   "source": [
    "emp1X = open(\"emp-data1.xlsx\",\"w\")\n",
    "emp1X.write(\"empid name dept salary\\n1234 arun sales 45000\\n1235 john finan 56000\\n1236 ravi purch 65656\\n1237 manu accts 45454\\n1238 raja hrd 43434\")\n",
    "emp1X.close()\n",
    "\n",
    "emp2C = open(\"emp-data2.csv\", \"w\")\n",
    "emp2C.write(\"1234,blr,band5\\n1231,chn,band4\\n1236,hyd,band1\\n1230,tvm,band3\\n1232,mum,band2\")\n",
    "#emp2C.write(\"code,loc,band\\n1234,blr,band5\\n1231,chn,band4\\n1236,hyd,band1\\n1230,tvm,band3\\n1232,mum,band2\")\n",
    "emp2C.close();\n",
    "\n",
    "lblT = open(\"emp-labels.txt\", \"w\")\n",
    "lblT.write(\"code,loc,band\")\n",
    "lblT.close();\n",
    "\n",
    "\n",
    "emp1_df = pd.read_csv(\"emp-data1.xlsx\", header=0, delimiter=\" \")\n",
    "#pd.read_excel(\"emp1.xlsx\", sheet=\"sheet1\")\n",
    "\n",
    "emp2_df = pd.read_csv(\"emp-data2.csv\", header=None)\n",
    "\n",
    "lbl_fp = open(\"emp-labels.txt\")\n",
    "lbl_col = lbl_fp.read().split(\",\")\n",
    "lbl_fp.close()\n",
    "\n",
    "emp2_df.columns = lbl_col\n",
    "\n",
    "merge_df = pd.merge(emp1_df, emp2_df, how=\"inner\", left_on = \"empid\", right_on = \"code\")\n",
    "#merge_df = pd.merge(emp1_df, emp2_df.set_index(\"code\"), how=\"inner\", left_on = \"empid\", right_on = \"code\")\n",
    "print(merge_df)\n",
    "\n",
    "#out.csv  - empid,name,loc,salary\n",
    "merge_df.to_csv(\"emp-out.csv\", columns= [\"empid\", \"name\", \"loc\", \"salary\"], index=False);\n",
    "merge_df[[\"empid\", \"name\", \"loc\", \"salary\"]].to_csv(\"emp-out-another.csv\", index=False)"
   ]
  },
  {
   "cell_type": "code",
   "execution_count": null,
   "metadata": {},
   "outputs": [],
   "source": []
  }
 ],
 "metadata": {
  "kernelspec": {
   "display_name": "Python 3",
   "language": "python",
   "name": "python3"
  },
  "language_info": {
   "codemirror_mode": {
    "name": "ipython",
    "version": 3
   },
   "file_extension": ".py",
   "mimetype": "text/x-python",
   "name": "python",
   "nbconvert_exporter": "python",
   "pygments_lexer": "ipython3",
   "version": "3.7.4"
  }
 },
 "nbformat": 4,
 "nbformat_minor": 2
}
